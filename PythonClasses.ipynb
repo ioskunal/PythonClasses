{
 "cells": [
  {
   "cell_type": "code",
   "execution_count": 1,
   "metadata": {},
   "outputs": [
    {
     "data": {
      "text/plain": [
       "[5, 5, 2, 8, 6]"
      ]
     },
     "execution_count": 1,
     "metadata": {},
     "output_type": "execute_result"
    }
   ],
   "source": [
    "\n",
    "# Write a Python program using function concept that maps list of words into a list of integers\n",
    "# representing the lengths of the corresponding words.\n",
    "\n",
    "\n",
    "l = [\"Kunal\", \"Gupta\", \"is\" , \"learning\", \"Python\"]\n",
    "\n",
    "output = list(map(lambda x: len(x) , l))\n",
    "output\n"
   ]
  },
  {
   "cell_type": "raw",
   "metadata": {},
   "source": []
  },
  {
   "cell_type": "code",
   "execution_count": 7,
   "metadata": {},
   "outputs": [
    {
     "name": "stdout",
     "output_type": "stream",
     "text": [
      "True\n"
     ]
    }
   ],
   "source": [
    "# Write a Python function which takes a character (i.e. a string of length 1) and \n",
    "# returns True if it is a vowel, False otherwise.\n",
    "\n",
    "vowels = ['a','e','i','o','u']\n",
    "\n",
    "def isVowel(char):\n",
    "    return vowels.count(char) > 0\n",
    "\n",
    "print(isVowel('a'))"
   ]
  },
  {
   "cell_type": "code",
   "execution_count": 12,
   "metadata": {},
   "outputs": [
    {
     "name": "stdout",
     "output_type": "stream",
     "text": [
      "['Kunal', 'Gupta']\n"
     ]
    }
   ],
   "source": [
    "# Write a function filter_long_words() that takes a list of words and \n",
    "# an integer n and returns the list of words that are longer than n.\n",
    "\n",
    "def filter_long_words(arr, n):\n",
    "        return list(filter(lambda x: len(x) > n , arr))\n",
    "\n",
    "l = [\"My\",\"name\",\"is\",\"Kunal\", \"Gupta\"]\n",
    "print(filter_long_words(l,4))"
   ]
  },
  {
   "cell_type": "code",
   "execution_count": null,
   "metadata": {},
   "outputs": [],
   "source": []
  }
 ],
 "metadata": {
  "kernelspec": {
   "display_name": "Python 3",
   "language": "python",
   "name": "python3"
  },
  "language_info": {
   "codemirror_mode": {
    "name": "ipython",
    "version": 3
   },
   "file_extension": ".py",
   "mimetype": "text/x-python",
   "name": "python",
   "nbconvert_exporter": "python",
   "pygments_lexer": "ipython3",
   "version": "3.7.4"
  }
 },
 "nbformat": 4,
 "nbformat_minor": 2
}
