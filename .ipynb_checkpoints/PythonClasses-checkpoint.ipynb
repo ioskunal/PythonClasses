{
 "cells": [
  {
   "cell_type": "code",
   "execution_count": null,
   "metadata": {},
   "outputs": [],
   "source": [
    "# Task 1:\n"
   ]
  },
  {
   "cell_type": "code",
   "execution_count": 256,
   "metadata": {},
   "outputs": [
    {
     "data": {
      "text/plain": [
       "24"
      ]
     },
     "execution_count": 256,
     "metadata": {},
     "output_type": "execute_result"
    }
   ],
   "source": [
    "# 1.1\n",
    "# Write a Python Program to implement your own myreduce() function which works\n",
    "# exactly like Python's built-in function reduce()\n",
    "\n",
    "def operation(a,b):\n",
    "    return a*b    \n",
    "    \n",
    "def myreduce(function, arr):\n",
    "    start = arr[0]\n",
    "    result = start\n",
    "    for x in arr:\n",
    "        result = function(result, x)\n",
    "    return result\n",
    "    \n",
    "val = myreduce(operation, range(1,5))\n",
    "val\n"
   ]
  },
  {
   "cell_type": "code",
   "execution_count": 257,
   "metadata": {},
   "outputs": [
    {
     "data": {
      "text/plain": [
       "[2, 4, 6]"
      ]
     },
     "execution_count": 257,
     "metadata": {},
     "output_type": "execute_result"
    }
   ],
   "source": [
    "# 1.2\n",
    "# Write a Python program to implement your own myfilter() function which works\n",
    "# exactly like Python's built-in function filter()\n",
    "\n",
    "\n",
    "def operation(number):\n",
    "    if number % 2 == 0:\n",
    "        return number\n",
    "    \n",
    "def myfilter(function, arr):\n",
    "    result = []\n",
    "    for x in arr:\n",
    "        val = function(x)\n",
    "        if val != None:\n",
    "            result.append(val)\n",
    "    return result\n",
    "    \n",
    "val = myfilter(operation, [1,2,3,4,5,6])\n",
    "val"
   ]
  },
  {
   "cell_type": "code",
   "execution_count": 262,
   "metadata": {},
   "outputs": [
    {
     "name": "stdout",
     "output_type": "stream",
     "text": [
      "['A', 'C', 'A', 'D', 'G', 'I', 'L', 'D']\n",
      "['x', 'xx', 'xxx', 'xxxx', 'y', 'yy', 'yyy', 'yyyy', 'z', 'zz', 'zzz', 'zzzz']\n",
      "['x', 'y', 'z', 'xx', 'yy', 'zz', 'xxx', 'yyy', 'zzz', 'xxxx', 'yyyy', 'zzzz']\n",
      "[[2], [3], [4], [3], [4], [5], [4], [5], [6]]\n",
      "[[2, 3, 4, 5], [3, 4, 5, 6], [4, 5, 6, 7], [5, 6, 7, 8]]\n",
      "[(1, 1), (2, 1), (3, 1), (1, 2), (2, 2), (3, 2), (1, 3), (2, 3), (3, 3)]\n"
     ]
    }
   ],
   "source": [
    "# 2.\n",
    "# Implement List comprehensions to produce the following lists. \n",
    "# Write List comprehensions to produce the following Lists\n",
    "\n",
    "#  ['A', 'C', 'A', 'D', 'G', 'I', ’L’, ‘ D’]\n",
    "# ['x', 'xx', 'xxx', 'xxxx', 'y', 'yy', 'yyy', 'yyyy', 'z', 'zz', 'zzz', 'zzzz'] \n",
    "# ['x', 'y', 'z', 'xx', 'yy', 'zz', 'xx', 'yy', 'zz', 'xxxx', 'yyyy', 'zzzz']\n",
    "# [[2], [3], [4], [3], [4], [5], [4], [5], [6]]\n",
    "# [[2, 3, 4, 5], [3, 4, 5, 6], [4, 5, 6, 7], [5, 6, 7, 8]]\n",
    "# [(1, 1), (2, 1), (3, 1), (1, 2), (2, 2), (3, 2), (1, 3), (2, 3), (3, 3)]\n",
    "\n",
    "word = \"ACADGILD\"\n",
    "\n",
    "result1 = [character for character in word]\n",
    "print(result1)\n",
    "\n",
    "word = [\"x\",\"y\",\"z\"]\n",
    "\n",
    "result2 = [character * num for character in word for num in range(1,5)]\n",
    "print(result2)\n",
    "\n",
    "result3 = [character * num for num in range(1,5) for character in word]\n",
    "print(result3)\n",
    "\n",
    "matrix = [[2,3,4], [3,4,5], [4,5,6]]\n",
    "result4 = [[(num[val])] for val in range(0,3) for num in number]\n",
    "print(result4)\n",
    "\n",
    "matrix = [[2,3,4,5]]\n",
    "result5 = [[val[i], val[i]+1 , val[i]+2 , val[i]+3] for val in matrix for i in range(0,4)]\n",
    "print(result5)\n",
    "\n",
    "matrix = [[1,2,3]]\n",
    "result6 = [(val[j], val[i]) for val in matrix  for i in range(0,3) for j in range(0,3)]\n",
    "print(result6)\n"
   ]
  },
  {
   "cell_type": "code",
   "execution_count": 163,
   "metadata": {},
   "outputs": [
    {
     "name": "stdout",
     "output_type": "stream",
     "text": [
      "Iron Man\n"
     ]
    }
   ],
   "source": [
    "# 3\n",
    "# Implement a function longestWord() that takes a list of words and returns the longest one.\n",
    "\n",
    "def longestWord(arr):\n",
    "    longest = \"\"\n",
    "    for word in arr:\n",
    "        if len(word) > len(longest):\n",
    "            longest = word\n",
    "    return longest\n",
    "    \n",
    "longest = longestWord([\"Tony\", \"Stark\", \"is\", \"the\", \"Iron Man\"])\n",
    "print(longest)\n"
   ]
  },
  {
   "cell_type": "code",
   "execution_count": null,
   "metadata": {},
   "outputs": [],
   "source": []
  },
  {
   "cell_type": "code",
   "execution_count": null,
   "metadata": {},
   "outputs": [],
   "source": [
    "# Task 2"
   ]
  },
  {
   "cell_type": "code",
   "execution_count": 21,
   "metadata": {},
   "outputs": [
    {
     "name": "stdout",
     "output_type": "stream",
     "text": [
      "Enter first side of the traingle 5\n",
      "Enter second side of the traingle 5\n",
      "Enter third side of the traingle 5\n",
      "Area of the traingle is 10.83\n"
     ]
    }
   ],
   "source": [
    "# 1.1\n",
    "# Write a Python Program(with class concepts) to find the area of the triangle using the below formula.\n",
    "# area = (s*(s-a)*(s-b)*(s-c)) ** 0.5\n",
    "# Function to take the length of the sides of triangle from user should be defined in the parent class \n",
    "# and function to calculate the area should be defined in subclass.\n",
    "\n",
    "class ParentClass:\n",
    "    \n",
    "    def __init__(self):\n",
    "        self.side1 = int(input(\"Enter first side of the traingle \"))\n",
    "        self.side2 = int(input(\"Enter second side of the traingle \"))\n",
    "        self.side3 = int(input(\"Enter third side of the traingle \"))\n",
    "    \n",
    "class SubClass(ParentClass):\n",
    "    \n",
    "    def __init__(self):\n",
    "        ParentClass.__init__(self)   \n",
    "    \n",
    "    def calculateArea(self):\n",
    "        s = (self.side1 + self.side2 + self.side3)/2\n",
    "        area = (s*(s-self.side1)*(s-self.side2)*(s-self.side3)) ** 0.5\n",
    "        return area\n",
    "        \n",
    "result = SubClass().calculateArea()\n",
    "result = round(result,2)\n",
    "print(\"Area of the traingle is {}\".format(result))\n"
   ]
  },
  {
   "cell_type": "code",
   "execution_count": null,
   "metadata": {},
   "outputs": [],
   "source": [
    "# 1.2\n",
    "# Write a function filter_long_words() that takes a list of words and \n",
    "# an integer n and returns the list of words that are longer than n.\n",
    "\n",
    "def filter_long_words(arr, n):\n",
    "        return list(filter(lambda x: len(x) > n , arr))\n",
    "\n",
    "l = [\"My\",\"name\",\"is\",\"Kunal\", \"Gupta\"]\n",
    "print(filter_long_words(l,4))"
   ]
  },
  {
   "cell_type": "code",
   "execution_count": 10,
   "metadata": {},
   "outputs": [
    {
     "data": {
      "text/plain": [
       "[5, 5, 2, 8, 6]"
      ]
     },
     "execution_count": 10,
     "metadata": {},
     "output_type": "execute_result"
    }
   ],
   "source": [
    "# 2.1\n",
    "# Write a Python program using function concept that maps list of words into a list of integers\n",
    "# representing the lengths of the corresponding words.\n",
    "\n",
    "\n",
    "l = [\"Kunal\", \"Gupta\", \"is\" , \"learning\", \"Python\"]\n",
    "\n",
    "output = list(map(lambda x: len(x) , l))\n",
    "output"
   ]
  },
  {
   "cell_type": "code",
   "execution_count": null,
   "metadata": {},
   "outputs": [],
   "source": []
  },
  {
   "cell_type": "code",
   "execution_count": 9,
   "metadata": {},
   "outputs": [
    {
     "name": "stdout",
     "output_type": "stream",
     "text": [
      "True\n"
     ]
    }
   ],
   "source": [
    "# 2.2\n",
    "# Write a Python function which takes a character (i.e. a string of length 1) and \n",
    "# returns True if it is a vowel, False otherwise.\n",
    "\n",
    "vowels = ['a','e','i','o','u']\n",
    "\n",
    "def isVowel(char):\n",
    "    return vowels.count(char) > 0\n",
    "\n",
    "print(isVowel('a'))"
   ]
  }
 ],
 "metadata": {
  "celltoolbar": "Raw Cell Format",
  "kernelspec": {
   "display_name": "Python 3",
   "language": "python",
   "name": "python3"
  },
  "language_info": {
   "codemirror_mode": {
    "name": "ipython",
    "version": 3
   },
   "file_extension": ".py",
   "mimetype": "text/x-python",
   "name": "python",
   "nbconvert_exporter": "python",
   "pygments_lexer": "ipython3",
   "version": "3.7.4"
  }
 },
 "nbformat": 4,
 "nbformat_minor": 2
}
