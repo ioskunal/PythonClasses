{
 "cells": [
  {
   "cell_type": "code",
   "execution_count": null,
   "metadata": {},
   "outputs": [],
   "source": [
    "# Task 1:\n"
   ]
  },
  {
   "cell_type": "code",
   "execution_count": 87,
   "metadata": {},
   "outputs": [
    {
     "data": {
      "text/plain": [
       "24"
      ]
     },
     "execution_count": 87,
     "metadata": {},
     "output_type": "execute_result"
    }
   ],
   "source": [
    "# 1.1\n",
    "# Write a Python Program to implement your own myreduce() function which works\n",
    "# exactly like Python's built-in function reduce()\n",
    "\n",
    "def operation(a,b):\n",
    "    return a*b    \n",
    "    \n",
    "def myreduce(function, iterable):\n",
    "    it = iter(iterable)\n",
    "    start = next(it)\n",
    "    result = start\n",
    "    for x in it:\n",
    "        result = function(result, x)\n",
    "    return result\n",
    "    \n",
    "val = myreduce(operation, range(1,5))\n",
    "val\n"
   ]
  },
  {
   "cell_type": "code",
   "execution_count": 106,
   "metadata": {},
   "outputs": [
    {
     "data": {
      "text/plain": [
       "[False, True, False, True, False, True]"
      ]
     },
     "execution_count": 106,
     "metadata": {},
     "output_type": "execute_result"
    }
   ],
   "source": [
    "# 1.2\n",
    "# Write a Python program to implement your own myfilter() function which works\n",
    "# exactly like Python's built-in function filter()\n",
    "\n",
    "\n",
    "def operation(number):\n",
    "    if number % 2 == 0:\n",
    "        return number\n",
    "    \n",
    "def myfilter(function, iterable):\n",
    "    it = iter(iterable)\n",
    "    result = []\n",
    "    for x in it:\n",
    "        val = function(x)\n",
    "        if val != None:\n",
    "            result.append(val)\n",
    "    return result\n",
    "    \n",
    "val = myfilter(operation, [1,2,3,4,5,6])\n",
    "val"
   ]
  },
  {
   "cell_type": "code",
   "execution_count": 8,
   "metadata": {},
   "outputs": [],
   "source": [
    "# 2.\n",
    "# Implement List comprehensions to produce the following lists. \n",
    "# Write List comprehensions to produce the following Lists\n",
    "\n",
    "#  ['A', 'C', 'A', 'D', 'G', 'I', ’L’, ‘ D’]\n",
    "# ['x', 'xx', 'xxx', 'xxxx', 'y', 'yy', 'yyy', 'yyyy', 'z', 'zz', 'zzz', 'zzzz'] \n",
    "# ['x', 'y', 'z', 'xx', 'yy', 'zz', 'xx', 'yy', 'zz', 'xxxx', 'yyyy', 'zzzz']\n",
    "# [[2], [3], [4], [3], [4], [5], [4], [5], [6]]\n",
    "# [[2, 3, 4, 5], [3, 4, 5, 6], [4, 5, 6, 7], [5, 6, 7, 8]]\n",
    "# [(1, 1), (2, 1), (3, 1), (1, 2), (2, 2), (3, 2), (1, 3), (2, 3), (3, 3)]\n",
    "\n",
    "\n"
   ]
  },
  {
   "cell_type": "code",
   "execution_count": null,
   "metadata": {},
   "outputs": [],
   "source": [
    "# 3\n",
    "# Implement a function longestWord() that takes a list of words and returns the longest one.\n",
    "\n"
   ]
  },
  {
   "cell_type": "code",
   "execution_count": null,
   "metadata": {},
   "outputs": [],
   "source": []
  },
  {
   "cell_type": "code",
   "execution_count": null,
   "metadata": {},
   "outputs": [],
   "source": []
  },
  {
   "cell_type": "code",
   "execution_count": null,
   "metadata": {},
   "outputs": [],
   "source": [
    "# Task 2"
   ]
  },
  {
   "cell_type": "code",
   "execution_count": 1,
   "metadata": {},
   "outputs": [
    {
     "data": {
      "text/plain": [
       "[5, 5, 2, 8, 6]"
      ]
     },
     "execution_count": 1,
     "metadata": {},
     "output_type": "execute_result"
    }
   ],
   "source": [
    "# 1.1\n",
    "# Write a Python Program(with class concepts) to find the area of the triangle using the below formula."
   ]
  },
  {
   "cell_type": "code",
   "execution_count": 11,
   "metadata": {},
   "outputs": [
    {
     "name": "stdout",
     "output_type": "stream",
     "text": [
      "['Kunal', 'Gupta']\n"
     ]
    }
   ],
   "source": [
    "# 1.2\n",
    "# Write a function filter_long_words() that takes a list of words and \n",
    "# an integer n and returns the list of words that are longer than n.\n",
    "\n",
    "def filter_long_words(arr, n):\n",
    "        return list(filter(lambda x: len(x) > n , arr))\n",
    "\n",
    "l = [\"My\",\"name\",\"is\",\"Kunal\", \"Gupta\"]\n",
    "print(filter_long_words(l,4))"
   ]
  },
  {
   "cell_type": "code",
   "execution_count": 10,
   "metadata": {},
   "outputs": [
    {
     "data": {
      "text/plain": [
       "[5, 5, 2, 8, 6]"
      ]
     },
     "execution_count": 10,
     "metadata": {},
     "output_type": "execute_result"
    }
   ],
   "source": [
    "# 2.1\n",
    "# Write a Python program using function concept that maps list of words into a list of integers\n",
    "# representing the lengths of the corresponding words.\n",
    "\n",
    "\n",
    "l = [\"Kunal\", \"Gupta\", \"is\" , \"learning\", \"Python\"]\n",
    "\n",
    "output = list(map(lambda x: len(x) , l))\n",
    "output"
   ]
  },
  {
   "cell_type": "code",
   "execution_count": 9,
   "metadata": {},
   "outputs": [
    {
     "name": "stdout",
     "output_type": "stream",
     "text": [
      "True\n"
     ]
    }
   ],
   "source": [
    "# 2.2\n",
    "# Write a Python function which takes a character (i.e. a string of length 1) and \n",
    "# returns True if it is a vowel, False otherwise.\n",
    "\n",
    "vowels = ['a','e','i','o','u']\n",
    "\n",
    "def isVowel(char):\n",
    "    return vowels.count(char) > 0\n",
    "\n",
    "print(isVowel('a'))"
   ]
  },
  {
   "cell_type": "code",
   "execution_count": null,
   "metadata": {},
   "outputs": [],
   "source": []
  },
  {
   "cell_type": "code",
   "execution_count": null,
   "metadata": {},
   "outputs": [],
   "source": [
    "\n"
   ]
  },
  {
   "cell_type": "code",
   "execution_count": 7,
   "metadata": {},
   "outputs": [
    {
     "name": "stdout",
     "output_type": "stream",
     "text": [
      "True\n"
     ]
    }
   ],
   "source": []
  },
  {
   "cell_type": "code",
   "execution_count": 12,
   "metadata": {},
   "outputs": [
    {
     "name": "stdout",
     "output_type": "stream",
     "text": [
      "['Kunal', 'Gupta']\n"
     ]
    }
   ],
   "source": []
  },
  {
   "cell_type": "code",
   "execution_count": null,
   "metadata": {},
   "outputs": [],
   "source": []
  }
 ],
 "metadata": {
  "kernelspec": {
   "display_name": "Python 3",
   "language": "python",
   "name": "python3"
  },
  "language_info": {
   "codemirror_mode": {
    "name": "ipython",
    "version": 3
   },
   "file_extension": ".py",
   "mimetype": "text/x-python",
   "name": "python",
   "nbconvert_exporter": "python",
   "pygments_lexer": "ipython3",
   "version": "3.7.4"
  }
 },
 "nbformat": 4,
 "nbformat_minor": 2
}
